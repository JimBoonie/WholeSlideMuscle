{
 "cells": [
  {
   "cell_type": "markdown",
   "metadata": {},
   "source": [
    "#### Changes to make\n",
    "##### Required\n",
    "* replace _rand_indices with function that uses ROI to randomly select from valid indices\n",
    "##### Desired\n",
    "* check list of accepted openslide formats before adding files to list"
   ]
  },
  {
   "cell_type": "code",
   "execution_count": 10,
   "metadata": {
    "collapsed": true
   },
   "outputs": [],
   "source": [
    "import tensorflow as tf\n",
    "from openslide import open_slide\n",
    "from os import listdir\n",
    "from os.path import isfile, join\n",
    "from random import randint\n",
    "\n",
    "import matplotlib.pyplot as plt\n",
    "\n",
    "%matplotlib inline"
   ]
  },
  {
   "cell_type": "code",
   "execution_count": 12,
   "metadata": {
    "collapsed": true
   },
   "outputs": [],
   "source": [
    "class SlideLoader:\n",
    "    def __init__(self, crop_dims=(512, 512), data_dir='.'):\n",
    "        self.data_dir = data_dir\n",
    "        self.crop_dims = crop_dims\n",
    "        self.files = [f for f in listdir(data_dir) if isfile(join(data_dir, f))]\n",
    "        \n",
    "    def _filepath(self, file_idx):\n",
    "        return join(self.data_dir, self.files[file_idx])\n",
    "    \n",
    "    def _rand_indices(self, slide):\n",
    "        dims = slide.dimensions\n",
    "        upper_bounds = (dims[0] - self.crop_dims[0], dims[1] - self.crop_dims[1])\n",
    "        return (randint(0, upper_bounds[0]), randint(0, upper_bounds[1]))\n",
    "    \n",
    "    def get_crop_batch(self, n_crops):\n",
    "        crops = []\n",
    "        for i in range(len(self.files)):\n",
    "            slide = open_slide(self._filepath(i))\n",
    "            crop = slide.read_region(self._rand_indices(slide), 0, self.crop_dims)\n",
    "            crops.append(crop)\n",
    "            \n",
    "        return crops"
   ]
  },
  {
   "cell_type": "code",
   "execution_count": 13,
   "metadata": {
    "collapsed": false
   },
   "outputs": [
    {
     "ename": "IndexError",
     "evalue": "list index out of range",
     "output_type": "error",
     "traceback": [
      "\u001b[1;31m---------------------------------------------------------------------------\u001b[0m",
      "\u001b[1;31mIndexError\u001b[0m                                Traceback (most recent call last)",
      "\u001b[1;32m<ipython-input-13-986b4bfb36c2>\u001b[0m in \u001b[0;36m<module>\u001b[1;34m()\u001b[0m\n\u001b[0;32m      1\u001b[0m \u001b[0mm\u001b[0m \u001b[1;33m=\u001b[0m \u001b[0mSlideLoader\u001b[0m\u001b[1;33m(\u001b[0m\u001b[0mdata_dir\u001b[0m\u001b[1;33m=\u001b[0m\u001b[1;34m'../Data/Myositis/'\u001b[0m\u001b[1;33m)\u001b[0m\u001b[1;33m\u001b[0m\u001b[0m\n\u001b[0;32m      2\u001b[0m \u001b[0mimgs\u001b[0m \u001b[1;33m=\u001b[0m \u001b[0mm\u001b[0m\u001b[1;33m.\u001b[0m\u001b[0mget_crop_batch\u001b[0m\u001b[1;33m(\u001b[0m\u001b[1;36m5\u001b[0m\u001b[1;33m)\u001b[0m\u001b[1;33m\u001b[0m\u001b[0m\n\u001b[1;32m----> 3\u001b[1;33m \u001b[0mplt\u001b[0m\u001b[1;33m.\u001b[0m\u001b[0mimshow\u001b[0m\u001b[1;33m(\u001b[0m\u001b[0mimgs\u001b[0m\u001b[1;33m[\u001b[0m\u001b[1;36m0\u001b[0m\u001b[1;33m]\u001b[0m\u001b[1;33m)\u001b[0m\u001b[1;33m\u001b[0m\u001b[0m\n\u001b[0m",
      "\u001b[1;31mIndexError\u001b[0m: list index out of range"
     ]
    }
   ],
   "source": [
    "m = SlideLoader(data_dir='../Data/Myositis/')\n",
    "imgs = m.get_crop_batch(5)\n",
    "plt.imshow(imgs[0])"
   ]
  },
  {
   "cell_type": "code",
   "execution_count": 9,
   "metadata": {
    "collapsed": false
   },
   "outputs": [
    {
     "data": {
      "text/plain": [
       "(49034, 9913)"
      ]
     },
     "execution_count": 9,
     "metadata": {},
     "output_type": "execute_result"
    }
   ],
   "source": [
    "m._test_rand_indices()"
   ]
  }
 ],
 "metadata": {
  "kernelspec": {
   "display_name": "Python [tensorflow]",
   "language": "python",
   "name": "Python [tensorflow]"
  },
  "language_info": {
   "codemirror_mode": {
    "name": "ipython",
    "version": 2
   },
   "file_extension": ".py",
   "mimetype": "text/x-python",
   "name": "python",
   "nbconvert_exporter": "python",
   "pygments_lexer": "ipython2",
   "version": "2.7.12"
  }
 },
 "nbformat": 4,
 "nbformat_minor": 0
}
